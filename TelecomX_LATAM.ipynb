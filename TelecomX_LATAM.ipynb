{
 "cells": [
  {
   "cell_type": "markdown",
   "metadata": {
    "id": "4foVEKhrlqcH"
   },
   "source": [
    "#📌 Extracción"
   ]
  },
  {
   "cell_type": "code",
   "execution_count": null,
   "metadata": {
    "id": "1--uPM88l7JH"
   },
   "outputs": [],
   "source": [
    "import pandas as pd\n",
    "import seaborn as sns\n",
    "import matplotlib.pyplot as plt\n",
    "\n",
    "# Cargar los datos\n",
    "df = pd.read_json('TelecomX_Data.json')\n",
    "\n",
    "# Mostrar información básica del dataset\n",
    "print(\"Información del dataset:\")\n",
    "print(df.info())\n",
    "print(\"\\nPrimeras filas del dataset:\")\n",
    "print(df.head())"
   ]
  },
  {
   "cell_type": "markdown",
   "metadata": {
    "id": "1lSZP8zmmGZu"
   },
   "source": [
    "#🔧 Transformación"
   ]
  },
  {
   "cell_type": "code",
   "execution_count": null,
   "metadata": {},
   "outputs": [],
   "source": []
  },
  {
   "cell_type": "code",
   "execution_count": null,
   "metadata": {
    "id": "bsm-WTLjmHvt"
   },
   "outputs": [],
   "source": [
    "# Expandir las columnas anidadas\n",
    "df_expanded = pd.DataFrame()\n",
    "df_expanded['customerID'] = df['customerID']\n",
    "df_expanded['Churn'] = df['Churn']\n",
    "\n",
    "# Expandir datos del cliente\n",
    "df_expanded = pd.concat([df_expanded, pd.json_normalize(df['customer'])], axis=1)\n",
    "\n",
    "# Expandir datos del teléfono\n",
    "df_expanded = pd.concat([df_expanded, pd.json_normalize(df['phone'])], axis=1)\n",
    "\n",
    "# Expandir datos de internet\n",
    "df_expanded = pd.concat([df_expanded, pd.json_normalize(df['internet'])], axis=1)\n",
    "\n",
    "# Expandir datos de la cuenta\n",
    "df_expanded = pd.concat([df_expanded, pd.json_normalize(df['account'])], axis=1)\n",
    "\n",
    "# Reemplazar df original\n",
    "df = df_expanded\n",
    "\n",
    "# Verificar valores nulos\n",
    "print(\"Valores nulos en el dataset:\")\n",
    "print(df.isnull().sum())\n",
    "\n",
    "# Verificar valores duplicados\n",
    "print(\"\\nNúmero de registros duplicados:\", df.duplicated().sum())\n",
    "\n",
    "# Convertir 'SeniorCitizen' a tipo categórico\n",
    "df['SeniorCitizen'] = df['SeniorCitizen'].map({0: 'No', 1: 'Yes'})\n",
    "\n",
    "# Convertir variables categóricas a tipo 'category'\n",
    "categorical_columns = ['gender', 'SeniorCitizen', 'Partner', 'Dependents', 'PhoneService', \n",
    "                      'MultipleLines', 'InternetService', 'OnlineSecurity', 'OnlineBackup',\n",
    "                      'DeviceProtection', 'TechSupport', 'StreamingTV', 'StreamingMovies',\n",
    "                      'Contract', 'PaperlessBilling', 'PaymentMethod', 'Churn']\n",
    "\n",
    "for col in categorical_columns:\n",
    "    df[col] = df[col].astype('category')\n",
    "\n",
    "# Verificar tipos de datos después de la transformación\n",
    "print(\"\\nTipos de datos después de la transformación:\")\n",
    "print(df.dtypes)"
   ]
  },
  {
   "cell_type": "markdown",
   "metadata": {
    "id": "6XnTC2NTmMRL"
   },
   "source": [
    "#📊 Carga y análisis"
   ]
  },
  {
   "cell_type": "code",
   "execution_count": null,
   "metadata": {
    "id": "1jgUnLqTmPdd"
   },
   "outputs": [],
   "source": [
    "# Configuración de estilo para las visualizaciones\n",
    "sns.set_theme()\n",
    "\n",
    "# 1. Análisis de Churn\n",
    "print(\"Distribución de Churn:\")\n",
    "churn_dist = df['Churn'].value_counts()\n",
    "print(churn_dist)\n",
    "print(f\"\\nTasa de Churn: {(churn_dist['Yes'] / len(df) * 100):.2f}%\")\n",
    "\n",
    "plt.figure(figsize=(10, 5))\n",
    "sns.countplot(data=df, x='Churn')\n",
    "plt.title('Distribución de Churn')\n",
    "plt.show()\n",
    "\n",
    "# 2. Análisis por tipo de contrato\n",
    "plt.figure(figsize=(10, 6))\n",
    "sns.countplot(data=df, x='Contract', hue='Churn')\n",
    "plt.title('Churn por Tipo de Contrato')\n",
    "plt.xticks(rotation=45)\n",
    "plt.show()\n",
    "\n",
    "# 3. Análisis de características numéricas\n",
    "plt.figure(figsize=(12, 6))\n",
    "sns.boxplot(data=df, x='Churn', y='Charges.Monthly')\n",
    "plt.title('Distribución de Cargos Mensuales por Churn')\n",
    "plt.show()\n",
    "\n",
    "# 4. Análisis de tenure (tiempo como cliente)\n",
    "plt.figure(figsize=(12, 6))\n",
    "sns.boxplot(data=df, x='Churn', y='tenure')\n",
    "plt.title('Distribución de Tiempo como Cliente por Churn')\n",
    "plt.show()\n",
    "\n",
    "# 5. Análisis de servicios\n",
    "servicios = ['PhoneService', 'InternetService', 'OnlineSecurity', 'OnlineBackup', \n",
    "             'DeviceProtection', 'TechSupport', 'StreamingTV', 'StreamingMovies']\n",
    "\n",
    "plt.figure(figsize=(15, 8))\n",
    "for i, servicio in enumerate(servicios, 1):\n",
    "    plt.subplot(2, 4, i)\n",
    "    sns.countplot(data=df, x=servicio, hue='Churn')\n",
    "    plt.title(f'Churn por {servicio}')\n",
    "    plt.xticks(rotation=45)\n",
    "plt.tight_layout()\n",
    "plt.show()\n",
    "\n",
    "# 6. Correlación entre variables numéricas\n",
    "numeric_cols = ['tenure', 'Charges.Monthly']\n",
    "correlation = df[numeric_cols].corr()\n",
    "plt.figure(figsize=(8, 6))\n",
    "sns.heatmap(correlation, annot=True, cmap='coolwarm')\n",
    "plt.title('Correlación entre Variables Numéricas')\n",
    "plt.show()"
   ]
  },
  {
   "cell_type": "markdown",
   "metadata": {
    "id": "v-WzfSvTmaw9"
   },
   "source": [
    "#📄Informe final"
   ]
  },
  {
   "cell_type": "markdown",
   "metadata": {},
   "source": [
    "# Informe de Análisis de Churn en TelecomX\n",
    "\n",
    "## 1. Resumen General\n",
    "- La tasa de abandono (churn) es del 25.72%, lo que significa que aproximadamente 1 de cada 4 clientes abandona el servicio.\n",
    "- No se encontraron valores nulos ni duplicados en el conjunto de datos.\n",
    "\n",
    "## 2. Hallazgos Principales\n",
    "\n",
    "### Contratos y Permanencia\n",
    "- Los clientes con contratos mensuales tienen una tasa de abandono significativamente mayor.\n",
    "- Los clientes con contratos a largo plazo (dos años) muestran menor probabilidad de abandono.\n",
    "- Existe una correlación positiva (0.25) entre el tiempo como cliente (tenure) y los cargos mensuales.\n",
    "\n",
    "### Servicios y Seguridad\n",
    "- Los clientes sin servicios de seguridad en línea tienen mayor probabilidad de abandono.\n",
    "- Los clientes sin soporte técnico muestran tasas más altas de abandono.\n",
    "- La falta de servicios de respaldo en línea y protección de dispositivos también se correlaciona con mayores tasas de abandono.\n",
    "\n",
    "### Servicios de Internet y Entretenimiento\n",
    "- Los usuarios de fibra óptica muestran tasas de abandono más altas que los usuarios de DSL.\n",
    "- Los clientes sin servicios de streaming (TV y películas) tienen mayor probabilidad de abandonar.\n",
    "\n",
    "## 3. Recomendaciones\n",
    "\n",
    "1. **Fomentar Contratos a Largo Plazo**\n",
    "   - Desarrollar incentivos para que los clientes opten por contratos de mayor duración.\n",
    "   - Ofrecer descuentos o beneficios exclusivos para contratos anuales o bianuales.\n",
    "\n",
    "2. **Mejorar Servicios de Seguridad y Soporte**\n",
    "   - Fortalecer la oferta de servicios de seguridad en línea.\n",
    "   - Mejorar la accesibilidad y calidad del soporte técnico.\n",
    "   - Promover paquetes que incluyan protección de dispositivos y respaldo en línea.\n",
    "\n",
    "3. **Optimizar Servicios de Internet**\n",
    "   - Investigar y mejorar la satisfacción de los usuarios de fibra óptica.\n",
    "   - Considerar planes personalizados según el uso y necesidades del cliente.\n",
    "\n",
    "4. **Servicios de Valor Agregado**\n",
    "   - Promocionar paquetes que incluyan servicios de streaming.\n",
    "   - Desarrollar ofertas combinadas atractivas de internet y entretenimiento."
   ]
  }
 ],
 "metadata": {
  "colab": {
   "provenance": []
  },
  "kernelspec": {
   "display_name": ".venv",
   "language": "python",
   "name": "python3"
  },
  "language_info": {
   "codemirror_mode": {
    "name": "ipython",
    "version": 3
   },
   "file_extension": ".py",
   "mimetype": "text/x-python",
   "name": "python",
   "nbconvert_exporter": "python",
   "pygments_lexer": "ipython3",
   "version": "3.13.2"
  }
 },
 "nbformat": 4,
 "nbformat_minor": 0
}
